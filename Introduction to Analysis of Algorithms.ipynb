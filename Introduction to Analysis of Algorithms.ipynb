{
 "cells": [
  {
   "cell_type": "markdown",
   "id": "5822cd35",
   "metadata": {},
   "source": [
    "### Recursion is not always the answer "
   ]
  },
  {
   "cell_type": "code",
   "execution_count": 1,
   "id": "f67a2108",
   "metadata": {},
   "outputs": [],
   "source": [
    "from timeit import default_timer as timer"
   ]
  },
  {
   "cell_type": "code",
   "execution_count": 11,
   "id": "6fa43865",
   "metadata": {},
   "outputs": [],
   "source": [
    "def fibonacci(n):\n",
    "    if n==0: return 0\n",
    "    \n",
    "    elif n==1: return 1\n",
    "    \n",
    "    else:\n",
    "        return fibonacci(n-1)+fibonacci(n-2)\n",
    "        "
   ]
  },
  {
   "cell_type": "markdown",
   "id": "452e1eb1",
   "metadata": {},
   "source": [
    "#### Rescursion grows exponentially since we have to compute the values several times"
   ]
  },
  {
   "cell_type": "code",
   "execution_count": 4,
   "id": "fd816ca3",
   "metadata": {},
   "outputs": [
    {
     "name": "stdout",
     "output_type": "stream",
     "text": [
      "832040\n",
      "Total time:  1.2137935000000084\n"
     ]
    }
   ],
   "source": [
    "start = timer()\n",
    "\n",
    "print(fibonacci(30))\n",
    "\n",
    "end = timer()\n",
    "print(\"Total time: \", end - start)"
   ]
  },
  {
   "cell_type": "markdown",
   "id": "c806e871",
   "metadata": {},
   "source": [
    "#### Faster way would be to store the values in a list"
   ]
  },
  {
   "cell_type": "code",
   "execution_count": 9,
   "id": "c4b1f6a7",
   "metadata": {},
   "outputs": [
    {
     "name": "stdout",
     "output_type": "stream",
     "text": [
      "832040\n",
      "Total time:  0.0006311000000209788\n"
     ]
    }
   ],
   "source": [
    "start2 = timer()\n",
    "\n",
    "fibonacci_list = [0, 1]\n",
    "\n",
    "while len(fibonacci_list) < 31:\n",
    "    next_fibonacci = fibonacci_list[-1] + fibonacci_list[-2]\n",
    "    fibonacci_list.append(next_fibonacci)\n",
    "        \n",
    "def returner(n):\n",
    "    return fibonacci_list[30]\n",
    "\n",
    "print(returner(26))\n",
    "end2 = timer()\n",
    "\n",
    "print(\"Total time: \", end2 - start2)"
   ]
  },
  {
   "cell_type": "code",
   "execution_count": null,
   "id": "b7a624b0",
   "metadata": {},
   "outputs": [],
   "source": []
  }
 ],
 "metadata": {
  "kernelspec": {
   "display_name": "Python 3 (ipykernel)",
   "language": "python",
   "name": "python3"
  },
  "language_info": {
   "codemirror_mode": {
    "name": "ipython",
    "version": 3
   },
   "file_extension": ".py",
   "mimetype": "text/x-python",
   "name": "python",
   "nbconvert_exporter": "python",
   "pygments_lexer": "ipython3",
   "version": "3.9.7"
  }
 },
 "nbformat": 4,
 "nbformat_minor": 5
}
